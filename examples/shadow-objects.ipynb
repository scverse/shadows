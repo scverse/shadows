{
 "cells": [
  {
   "cell_type": "code",
   "execution_count": 1,
   "id": "4aa723fb-6a8d-4d43-913c-a31f2316b02f",
   "metadata": {},
   "outputs": [],
   "source": [
    "import os\n",
    "os.chdir(\"../../\")"
   ]
  },
  {
   "cell_type": "code",
   "execution_count": 2,
   "id": "f1c3418a-3a90-41b0-baa6-c6ad340dc75f",
   "metadata": {},
   "outputs": [],
   "source": [
    "from pathlib import Path\n",
    "data = Path(\"data/\")"
   ]
  },
  {
   "cell_type": "code",
   "execution_count": null,
   "id": "182d566e-9678-4185-9d11-1bc7578673e3",
   "metadata": {},
   "outputs": [],
   "source": [
    "# We will only use them for plotting below\n",
    "import scanpy as sc\n",
    "import muon as mu"
   ]
  },
  {
   "cell_type": "markdown",
   "id": "43da885f-111d-4e07-a330-bd067d7e60b6",
   "metadata": {},
   "source": [
    "Throughout the notebook we will also track how much memory the notebook consumes after loading different objects into memory.\n",
    "\n",
    "This won't provide exact measurement but will allow to see the order of magnitude of memory consumption:"
   ]
  },
  {
   "cell_type": "code",
   "execution_count": 4,
   "id": "2f08adba-2d59-47f9-a8f0-aee2f31f1ed7",
   "metadata": {},
   "outputs": [],
   "source": [
    "import os, psutil\n",
    "def measure_memory() -> float:\n",
    "    return psutil.Process(os.getpid()).memory_info().rss / 1024 ** 2"
   ]
  },
  {
   "cell_type": "markdown",
   "id": "697198ed-b0ea-4ad1-a651-b2d6cc884806",
   "metadata": {},
   "source": [
    " "
   ]
  },
  {
   "cell_type": "markdown",
   "id": "934b8d69-b812-422f-b718-080bb8508348",
   "metadata": {},
   "source": [
    "## Shadow objects"
   ]
  },
  {
   "cell_type": "markdown",
   "id": "e70decb3-d905-4903-8e06-3e581cd7b0e5",
   "metadata": {},
   "source": [
    "A lot of exploratory and downstream analyses and visualisations require read-only access to the data.\n",
    "\n",
    "While AnnData (and MuData) [provides](https://anndata.readthedocs.io/en/latest/generated/anndata.read_h5ad.html) support to delay reading the count matrix `.X` into memory, it currently does not provide a lightweight read-only access to the file contents.\n",
    "\n",
    "This is addressed by the new classes implemented in `shadows` — *AnnDataShadow* and *MuDataShadow*.\n",
    "Briefly, they mimic AnnData and MuData interfaces while keeping a connection to the file open and loading respective arrays, matrices and tables only when they are requested.\n",
    "\n",
    "Shadow objects are currently only implemented for H5AD and H5MU files."
   ]
  },
  {
   "cell_type": "markdown",
   "id": "65462d07-01b0-4395-8891-eda01e472f38",
   "metadata": {},
   "source": [
    " "
   ]
  },
  {
   "cell_type": "markdown",
   "id": "4a38075c-8da2-4193-af1a-c52e18176f92",
   "metadata": {},
   "source": [
    "Import classes for these shadow objects:"
   ]
  },
  {
   "cell_type": "code",
   "execution_count": 5,
   "id": "079454ed-10dc-47ef-9de2-ef70f95dbed6",
   "metadata": {
    "scrolled": true
   },
   "outputs": [],
   "source": [
    "from shadows import AnnDataShadow, MuDataShadow"
   ]
  },
  {
   "cell_type": "markdown",
   "id": "67b6edb8-0b0f-4ae4-82f2-9f3e48640b65",
   "metadata": {},
   "source": [
    " "
   ]
  },
  {
   "cell_type": "markdown",
   "id": "c3221fae-4a1f-4b53-a680-200de544078b",
   "metadata": {},
   "source": [
    "First, let's download a multimodal dataset in the H5MU format:"
   ]
  },
  {
   "cell_type": "code",
   "execution_count": 6,
   "id": "7397ecfb-1017-4ff0-a2f1-36d2d44b1491",
   "metadata": {},
   "outputs": [
    {
     "name": "stdout",
     "output_type": "stream",
     "text": [
      "■ File pbmc5k_citeseq_processed.h5mu from pbmc5k_citeseq has been found at data/pbmc5k_citeseq/pbmc5k_citeseq_processed.h5mu\n",
      "■ Checksum is validated (md5) for pbmc5k_citeseq_processed.h5mu\n",
      "■ Loading pbmc5k_citeseq_processed.h5mu...\n",
      "Loading MuData took about 394.68 MiB of memory\n"
     ]
    }
   ],
   "source": [
    "import mudatasets\n",
    "\n",
    "# Memory consumption before (in MiB)\n",
    "mem_before = measure_memory()\n",
    "\n",
    "mdata = mudatasets.load(\"pbmc5k_citeseq\", files=[\"pbmc5k_citeseq_processed.h5mu\"], data_dir=data, backed=False)\n",
    "# This will return a MuData objects after downloading the file,\n",
    "# but we will discard the in-memory object\n",
    "\n",
    "# Memory consumption after (in MiB)\n",
    "mem_after = measure_memory()\n",
    "\n",
    "print(f\"Loading MuData took about {(mem_after - mem_before):.2f} MiB of memory\")\n",
    "\n",
    "import gc\n",
    "del mdata\n",
    "gc.collect();"
   ]
  },
  {
   "cell_type": "markdown",
   "id": "15b92533-14c1-4999-890a-0ae64bed01fc",
   "metadata": {},
   "source": [
    " "
   ]
  },
  {
   "cell_type": "markdown",
   "id": "b8ae6d73-9a74-48ed-9d41-7e92bfee8f71",
   "metadata": {},
   "source": [
    "### Access and memory consumption"
   ]
  },
  {
   "cell_type": "code",
   "execution_count": 7,
   "id": "a81a45da-352f-4d4f-9e44-530b34e6c9f3",
   "metadata": {},
   "outputs": [],
   "source": [
    "mem_start = measure_memory()"
   ]
  },
  {
   "cell_type": "markdown",
   "id": "14f6f1ef-578a-499e-913a-036ac0772574",
   "metadata": {},
   "source": [
    "Now we can initialise a new MuData-like (in reality, a MuDataShadow) object:"
   ]
  },
  {
   "cell_type": "code",
   "execution_count": 8,
   "id": "e5ab4c4b-ff9b-4691-acd4-ee87a3fa38e1",
   "metadata": {},
   "outputs": [
    {
     "name": "stdout",
     "output_type": "stream",
     "text": [
      "MuDataShadow took about 0.0 MiB of memory\n"
     ]
    }
   ],
   "source": [
    "file = data / \"pbmc5k_citeseq/pbmc5k_citeseq_processed.h5mu\"\n",
    "\n",
    "# Memory consumption before (in MiB)\n",
    "mem_before = measure_memory()\n",
    "\n",
    "mdata = MuDataShadow(file)\n",
    "#       ^ This will traverse the file \n",
    "#         but will not load any matrices or data frames\n",
    "\n",
    "# Memory consumption after (in MiB)\n",
    "mem_after = measure_memory()\n",
    "\n",
    "print(f\"MuDataShadow took about {(mem_after - mem_before)} MiB of memory\")"
   ]
  },
  {
   "cell_type": "code",
   "execution_count": 9,
   "id": "07fe84d4-6a52-476b-b008-c3d492c0c81d",
   "metadata": {},
   "outputs": [
    {
     "name": "stdout",
     "output_type": "stream",
     "text": [
      "raw:\tX, var, varm\n",
      "\n",
      "raw:\tXᐁ, var, varm\n",
      "\n"
     ]
    }
   ],
   "source": [
    "mdata = MuDataShadow(file)\n",
    "print(mdata['rna'].raw)\n",
    "mdata['rna'].raw.X[:,10]\n",
    "print(mdata['rna'].raw)"
   ]
  },
  {
   "cell_type": "code",
   "execution_count": 10,
   "id": "58e62721-16f4-4e50-bf52-1b159c5dffbc",
   "metadata": {},
   "outputs": [
    {
     "data": {
      "text/plain": [
       "MuData Shadow object with n_obs × n_vars = 3891 × 17838\n",
       "  obs:\t_index, leiden, leiden_wnn, louvain\n",
       "  var:\t_index, feature_types, gene_ids, highly_variable\n",
       "  obsm:\tX_mofa, X_mofa_umap, X_umap, X_wnn_umap, prot, rna\n",
       "  varm:\tLFs, prot, rna\n",
       "  obsp:\tconnectivities, distances, wnn_connectivities, wnn_distances\n",
       "  uns:\tleiden, leiden_wnn_colors, louvain, neighbors, rna:celltype_colors, umap, wnn\n",
       "  obsmap:\tprot, rna\n",
       "  varmap:\tprot, rna\n",
       "  mod:\t2 modalities\n",
       "    prot: 3891 x 32\n",
       "        X  \n",
       "        layers:\tcounts\n",
       "        obs:\t_index\n",
       "        var:\t_index, feature_types, gene_ids, highly_variable\n",
       "        obsm:\tX_pca, X_umap\n",
       "        varm:\tPCs\n",
       "        obsp:\tconnectivities, distances\n",
       "        uns:\tneighbors, pca, umap\n",
       "    rna: 3891 x 17806\n",
       "        X  \n",
       "        raw:\tXᐁ, var, varm\n",
       "        obs:\t_index, celltype, leiden, n_genes_by_counts, pct_counts_mt, total_counts, total_counts_mt\n",
       "        var:\t_index, dispersions, dispersions_norm, feature_types, gene_ids, highly_variable, mean, mean_counts, means, mt, n_cells_by_counts, pct_dropout_by_counts, std, total_counts\n",
       "        obsm:\tX_pca, X_umap\n",
       "        varm:\tPCs\n",
       "        obsp:\tconnectivities, distances\n",
       "        uns:\tcelltype_colors, hvg, leiden, leiden_colors, neighbors, pca, rank_genes_groups, umap"
      ]
     },
     "execution_count": 10,
     "metadata": {},
     "output_type": "execute_result"
    }
   ],
   "source": [
    "mdata"
   ]
  },
  {
   "cell_type": "markdown",
   "id": "0933f525-9360-423f-a538-86d7121585f4",
   "metadata": {},
   "source": [
    "Individual modalities are `AnnDataShadow` objects:"
   ]
  },
  {
   "cell_type": "code",
   "execution_count": 11,
   "id": "cdd77b19-bd5a-4dbf-893e-73ed4d2f4616",
   "metadata": {},
   "outputs": [
    {
     "data": {
      "text/plain": [
       "AnnData Shadow object with n_obs × n_vars = 3891 × 17806\n",
       "  X  \n",
       "  raw:\tXᐁ, var, varm\n",
       "  obs:\t_index, celltype, leiden, n_genes_by_counts, pct_counts_mt, total_counts, total_counts_mt\n",
       "  var:\t_index, dispersions, dispersions_norm, feature_types, gene_ids, highly_variable, mean, mean_counts, means, mt, n_cells_by_counts, pct_dropout_by_counts, std, total_counts\n",
       "  obsm:\tX_pca, X_umap\n",
       "  varm:\tPCs\n",
       "  obsp:\tconnectivities, distances\n",
       "  uns:\tcelltype_colors, hvg, leiden, leiden_colors, neighbors, pca, rank_genes_groups, umap"
      ]
     },
     "execution_count": 11,
     "metadata": {},
     "output_type": "execute_result"
    }
   ],
   "source": [
    "mdata['rna']"
   ]
  },
  {
   "cell_type": "markdown",
   "id": "bb50af6a-4ee2-4a8f-b022-9b0daa63e81e",
   "metadata": {},
   "source": [
    " "
   ]
  },
  {
   "cell_type": "markdown",
   "id": "95330ef5-8434-4a44-a9e2-93105053e0c2",
   "metadata": {},
   "source": [
    "### Caching"
   ]
  },
  {
   "cell_type": "code",
   "execution_count": 12,
   "id": "341a9b70-9e52-4fb8-9845-8c3941c227e1",
   "metadata": {},
   "outputs": [],
   "source": [
    "# Memory consumption before reading some of the attributes\n",
    "mem_before = measure_memory()"
   ]
  },
  {
   "cell_type": "markdown",
   "id": "3f0054f4-5099-4f21-874d-2da7dfeacad9",
   "metadata": {},
   "source": [
    "We can use the values of the shadow object just as values in a regular MuData. They will be loaded from the object and cached:"
   ]
  },
  {
   "cell_type": "code",
   "execution_count": 13,
   "id": "7ce95cda-84ae-437b-80c4-24f70f3fb6d4",
   "metadata": {},
   "outputs": [
    {
     "data": {
      "text/html": [
       "<div>\n",
       "<style scoped>\n",
       "    .dataframe tbody tr th:only-of-type {\n",
       "        vertical-align: middle;\n",
       "    }\n",
       "\n",
       "    .dataframe tbody tr th {\n",
       "        vertical-align: top;\n",
       "    }\n",
       "\n",
       "    .dataframe thead th {\n",
       "        text-align: right;\n",
       "    }\n",
       "</style>\n",
       "<table border=\"1\" class=\"dataframe\">\n",
       "  <thead>\n",
       "    <tr style=\"text-align: right;\">\n",
       "      <th></th>\n",
       "      <th>n_genes_by_counts</th>\n",
       "      <th>total_counts</th>\n",
       "      <th>total_counts_mt</th>\n",
       "      <th>pct_counts_mt</th>\n",
       "      <th>leiden</th>\n",
       "      <th>celltype</th>\n",
       "    </tr>\n",
       "  </thead>\n",
       "  <tbody>\n",
       "    <tr>\n",
       "      <th>AAACCCAAGAGACAAG-1</th>\n",
       "      <td>2363</td>\n",
       "      <td>7375.0</td>\n",
       "      <td>467.0</td>\n",
       "      <td>6.332204</td>\n",
       "      <td>3</td>\n",
       "      <td>intermediate mono</td>\n",
       "    </tr>\n",
       "    <tr>\n",
       "      <th>AAACCCAAGGCCTAGA-1</th>\n",
       "      <td>1259</td>\n",
       "      <td>3772.0</td>\n",
       "      <td>343.0</td>\n",
       "      <td>9.093319</td>\n",
       "      <td>0</td>\n",
       "      <td>CD4+ naïve T</td>\n",
       "    </tr>\n",
       "    <tr>\n",
       "      <th>AAACCCAGTCGTGCCA-1</th>\n",
       "      <td>1578</td>\n",
       "      <td>4902.0</td>\n",
       "      <td>646.0</td>\n",
       "      <td>13.178295</td>\n",
       "      <td>2</td>\n",
       "      <td>CD4+ memory T</td>\n",
       "    </tr>\n",
       "    <tr>\n",
       "      <th>AAACCCATCGTGCATA-1</th>\n",
       "      <td>1908</td>\n",
       "      <td>6704.0</td>\n",
       "      <td>426.0</td>\n",
       "      <td>6.354415</td>\n",
       "      <td>2</td>\n",
       "      <td>CD4+ memory T</td>\n",
       "    </tr>\n",
       "    <tr>\n",
       "      <th>AAACGAAAGACAAGCC-1</th>\n",
       "      <td>1589</td>\n",
       "      <td>3900.0</td>\n",
       "      <td>363.0</td>\n",
       "      <td>9.307693</td>\n",
       "      <td>1</td>\n",
       "      <td>CD14 mono</td>\n",
       "    </tr>\n",
       "    <tr>\n",
       "      <th>...</th>\n",
       "      <td>...</td>\n",
       "      <td>...</td>\n",
       "      <td>...</td>\n",
       "      <td>...</td>\n",
       "      <td>...</td>\n",
       "      <td>...</td>\n",
       "    </tr>\n",
       "    <tr>\n",
       "      <th>TTTGGTTGTACGAGTG-1</th>\n",
       "      <td>1450</td>\n",
       "      <td>5666.0</td>\n",
       "      <td>367.0</td>\n",
       "      <td>6.477232</td>\n",
       "      <td>0</td>\n",
       "      <td>CD4+ naïve T</td>\n",
       "    </tr>\n",
       "    <tr>\n",
       "      <th>TTTGTTGAGTTAACAG-1</th>\n",
       "      <td>3068</td>\n",
       "      <td>10213.0</td>\n",
       "      <td>896.0</td>\n",
       "      <td>8.773132</td>\n",
       "      <td>9</td>\n",
       "      <td>intermediate mono</td>\n",
       "    </tr>\n",
       "    <tr>\n",
       "      <th>TTTGTTGCAGCACAAG-1</th>\n",
       "      <td>1649</td>\n",
       "      <td>4754.0</td>\n",
       "      <td>468.0</td>\n",
       "      <td>9.844342</td>\n",
       "      <td>4</td>\n",
       "      <td>CD8+ memory T</td>\n",
       "    </tr>\n",
       "    <tr>\n",
       "      <th>TTTGTTGCAGTCTTCC-1</th>\n",
       "      <td>1901</td>\n",
       "      <td>6373.0</td>\n",
       "      <td>553.0</td>\n",
       "      <td>8.677233</td>\n",
       "      <td>2</td>\n",
       "      <td>CD4+ memory T</td>\n",
       "    </tr>\n",
       "    <tr>\n",
       "      <th>TTTGTTGCATTGCCGG-1</th>\n",
       "      <td>3443</td>\n",
       "      <td>12220.0</td>\n",
       "      <td>1287.0</td>\n",
       "      <td>10.531915</td>\n",
       "      <td>3</td>\n",
       "      <td>intermediate mono</td>\n",
       "    </tr>\n",
       "  </tbody>\n",
       "</table>\n",
       "<p>3891 rows × 6 columns</p>\n",
       "</div>"
      ],
      "text/plain": [
       "                    n_genes_by_counts  total_counts  total_counts_mt  \\\n",
       "AAACCCAAGAGACAAG-1               2363        7375.0            467.0   \n",
       "AAACCCAAGGCCTAGA-1               1259        3772.0            343.0   \n",
       "AAACCCAGTCGTGCCA-1               1578        4902.0            646.0   \n",
       "AAACCCATCGTGCATA-1               1908        6704.0            426.0   \n",
       "AAACGAAAGACAAGCC-1               1589        3900.0            363.0   \n",
       "...                               ...           ...              ...   \n",
       "TTTGGTTGTACGAGTG-1               1450        5666.0            367.0   \n",
       "TTTGTTGAGTTAACAG-1               3068       10213.0            896.0   \n",
       "TTTGTTGCAGCACAAG-1               1649        4754.0            468.0   \n",
       "TTTGTTGCAGTCTTCC-1               1901        6373.0            553.0   \n",
       "TTTGTTGCATTGCCGG-1               3443       12220.0           1287.0   \n",
       "\n",
       "                    pct_counts_mt leiden           celltype  \n",
       "AAACCCAAGAGACAAG-1       6.332204      3  intermediate mono  \n",
       "AAACCCAAGGCCTAGA-1       9.093319      0       CD4+ naïve T  \n",
       "AAACCCAGTCGTGCCA-1      13.178295      2      CD4+ memory T  \n",
       "AAACCCATCGTGCATA-1       6.354415      2      CD4+ memory T  \n",
       "AAACGAAAGACAAGCC-1       9.307693      1          CD14 mono  \n",
       "...                           ...    ...                ...  \n",
       "TTTGGTTGTACGAGTG-1       6.477232      0       CD4+ naïve T  \n",
       "TTTGTTGAGTTAACAG-1       8.773132      9  intermediate mono  \n",
       "TTTGTTGCAGCACAAG-1       9.844342      4      CD8+ memory T  \n",
       "TTTGTTGCAGTCTTCC-1       8.677233      2      CD4+ memory T  \n",
       "TTTGTTGCATTGCCGG-1      10.531915      3  intermediate mono  \n",
       "\n",
       "[3891 rows x 6 columns]"
      ]
     },
     "execution_count": 13,
     "metadata": {},
     "output_type": "execute_result"
    }
   ],
   "source": [
    "rna_obs = mdata.mod[\"rna\"].obs\n",
    "rna_obs"
   ]
  },
  {
   "cell_type": "markdown",
   "id": "9fe2c2d0-cdc4-415d-90f9-4d0b7a2973c5",
   "metadata": {},
   "source": [
    "Individual matrices or data frames from `.obsm`, `.obsp`, `.layers`, etc. can be loaded allowing to only load e.g. a particular embedding of the data:"
   ]
  },
  {
   "cell_type": "code",
   "execution_count": 14,
   "id": "2bf71f1f-3854-41be-bb95-f00d4ff725b1",
   "metadata": {},
   "outputs": [
    {
     "data": {
      "text/plain": [
       "array([[ 20.551052  ,   0.36840764,  -1.6193684 , ...,   0.09656975,\n",
       "         -0.90912175,  -0.77955467],\n",
       "       [ -9.47144   ,  -5.5212517 ,  -5.107428  , ...,   0.64674896,\n",
       "         -0.892091  ,   1.7873902 ],\n",
       "       [ -9.913012  ,   2.766899  ,  -2.0684972 , ...,  -0.6454743 ,\n",
       "          1.615869  ,  -0.63476324],\n",
       "       ...,\n",
       "       [ -8.727723  ,   7.9196725 ,   1.3326805 , ...,   1.4592032 ,\n",
       "          0.91210324,   1.3184382 ],\n",
       "       [-10.792531  ,   3.2086673 ,  -2.0437238 , ...,   1.7311838 ,\n",
       "         -1.840564  ,   1.3253008 ],\n",
       "       [ 20.642431  ,   0.49294943,  -1.6694897 , ...,  -0.51208967,\n",
       "          0.60652566,  -0.75145006]], dtype=float32)"
      ]
     },
     "execution_count": 14,
     "metadata": {},
     "output_type": "execute_result"
    }
   ],
   "source": [
    "rna_pca = mdata[\"rna\"].obsm[\"X_pca\"]\n",
    "rna_pca"
   ]
  },
  {
   "cell_type": "markdown",
   "id": "3e5d4937-5cbd-4165-8eb8-d0ef849e1333",
   "metadata": {},
   "source": [
    "Notice the symbol `ᐁ` near the respective table (`/mod/rna/obs`) and matrix (`/mod/rna/obsm/X_pca`) indicating that the value has already been loaded into memory:"
   ]
  },
  {
   "cell_type": "code",
   "execution_count": 15,
   "id": "d1662d05-8bb8-4428-a0c3-e979df2d2cae",
   "metadata": {},
   "outputs": [
    {
     "data": {
      "text/plain": [
       "MuData Shadow object with n_obs × n_vars = 3891 × 17838\n",
       "  obs:\t_index, leiden, leiden_wnn, louvain\n",
       "  var:\t_index, feature_types, gene_ids, highly_variable\n",
       "  obsm:\tX_mofa, X_mofa_umap, X_umap, X_wnn_umap, prot, rna\n",
       "  varm:\tLFs, prot, rna\n",
       "  obsp:\tconnectivities, distances, wnn_connectivities, wnn_distances\n",
       "  uns:\tleiden, leiden_wnn_colors, louvain, neighbors, rna:celltype_colors, umap, wnn\n",
       "  obsmap:\tprot, rna\n",
       "  varmap:\tprot, rna\n",
       "  mod:\t2 modalities\n",
       "    prot: 3891 x 32\n",
       "        X  \n",
       "        layers:\tcounts\n",
       "        obs:\t_index\n",
       "        var:\t_index, feature_types, gene_ids, highly_variable\n",
       "        obsm:\tX_pca, X_umap\n",
       "        varm:\tPCs\n",
       "        obsp:\tconnectivities, distances\n",
       "        uns:\tneighbors, pca, umap\n",
       "    rna: 3891 x 17806\n",
       "        X  \n",
       "        raw:\tXᐁ, var, varm\n",
       "        obs:\t_index, celltype, leiden, n_genes_by_counts, pct_counts_mt, total_counts, total_counts_mt\n",
       "        var:\t_index, dispersions, dispersions_norm, feature_types, gene_ids, highly_variable, mean, mean_counts, means, mt, n_cells_by_counts, pct_dropout_by_counts, std, total_counts\n",
       "        obsm:\tX_pcaᐁ, X_umap\n",
       "        varm:\tPCs\n",
       "        obsp:\tconnectivities, distances\n",
       "        uns:\tcelltype_colors, hvg, leiden, leiden_colors, neighbors, pca, rank_genes_groups, umap"
      ]
     },
     "execution_count": 15,
     "metadata": {},
     "output_type": "execute_result"
    }
   ],
   "source": [
    "mdata"
   ]
  },
  {
   "cell_type": "markdown",
   "id": "b27c1433-2425-400e-a842-580462656f6b",
   "metadata": {},
   "source": [
    "Let's load count matrices for a noticeable effect on memory consumption:"
   ]
  },
  {
   "cell_type": "code",
   "execution_count": 16,
   "id": "d13b8eb2-c7bd-4f33-b1dd-6a211a988a0c",
   "metadata": {},
   "outputs": [],
   "source": [
    "rna_x = mdata[\"rna\"].X\n",
    "prot_x = mdata[\"prot\"].X"
   ]
  },
  {
   "cell_type": "code",
   "execution_count": 17,
   "id": "3aff9199-177f-4a55-804e-10b39fdd567f",
   "metadata": {},
   "outputs": [],
   "source": [
    "# Memory consumption after loading .obs, .obsm[\"X_pca\"] for RNA,\n",
    "# and count matrices for RNA and proteins\n",
    "mem_after = measure_memory()"
   ]
  },
  {
   "cell_type": "code",
   "execution_count": 18,
   "id": "0c0175b2-d80f-415b-b08a-64d44c7b74d3",
   "metadata": {},
   "outputs": [
    {
     "name": "stdout",
     "output_type": "stream",
     "text": [
      "Reading these few objects took about 266.30 MiB of memory\n"
     ]
    }
   ],
   "source": [
    "print(f\"Reading these few objects took about {(mem_after - mem_before):.2f} MiB of memory\")"
   ]
  },
  {
   "cell_type": "markdown",
   "id": "101c3a85-4cbe-4f8a-ac0a-13c9a6e47a76",
   "metadata": {},
   "source": [
    " "
   ]
  },
  {
   "cell_type": "markdown",
   "id": "e1dfcb71-37c4-4c12-ad29-3c53ea55db34",
   "metadata": {},
   "source": [
    "Cache can be cleared:"
   ]
  },
  {
   "cell_type": "code",
   "execution_count": 19,
   "id": "561408e1-9766-409e-afc1-0cb74183119e",
   "metadata": {},
   "outputs": [
    {
     "data": {
      "text/plain": [
       "MuData Shadow object with n_obs × n_vars = 3891 × 17838\n",
       "  obs:\t_index, leiden, leiden_wnn, louvain\n",
       "  var:\t_index, feature_types, gene_ids, highly_variable\n",
       "  obsm:\tX_mofa, X_mofa_umap, X_umap, X_wnn_umap, prot, rna\n",
       "  varm:\tLFs, prot, rna\n",
       "  obsp:\tconnectivities, distances, wnn_connectivities, wnn_distances\n",
       "  uns:\tleiden, leiden_wnn_colors, louvain, neighbors, rna:celltype_colors, umap, wnn\n",
       "  obsmap:\tprot, rna\n",
       "  varmap:\tprot, rna\n",
       "  mod:\t2 modalities\n",
       "    prot: 3891 x 32\n",
       "        X  \n",
       "        layers:\tcounts\n",
       "        obs:\t_index\n",
       "        var:\t_index, feature_types, gene_ids, highly_variable\n",
       "        obsm:\tX_pca, X_umap\n",
       "        varm:\tPCs\n",
       "        obsp:\tconnectivities, distances\n",
       "        uns:\tneighbors, pca, umap\n",
       "    rna: 3891 x 17806\n",
       "        X  \n",
       "        raw:\tX, var, varm\n",
       "        obs:\t_index, celltype, leiden, n_genes_by_counts, pct_counts_mt, total_counts, total_counts_mt\n",
       "        var:\t_index, dispersions, dispersions_norm, feature_types, gene_ids, highly_variable, mean, mean_counts, means, mt, n_cells_by_counts, pct_dropout_by_counts, std, total_counts\n",
       "        obsm:\tX_pca, X_umap\n",
       "        varm:\tPCs\n",
       "        obsp:\tconnectivities, distances\n",
       "        uns:\tcelltype_colors, hvg, leiden, leiden_colors, neighbors, pca, rank_genes_groups, umap"
      ]
     },
     "execution_count": 19,
     "metadata": {},
     "output_type": "execute_result"
    }
   ],
   "source": [
    "mdata.clear_cache()\n",
    "mdata"
   ]
  },
  {
   "cell_type": "markdown",
   "id": "26f73006-15ed-4cd3-bc1f-830d5ae50304",
   "metadata": {},
   "source": [
    "(No more `obsᐁ` and `X_pcaᐁ`!)"
   ]
  },
  {
   "cell_type": "code",
   "execution_count": 20,
   "id": "92f7b669-4932-4468-8740-1c2b0cee9e9d",
   "metadata": {},
   "outputs": [
    {
     "data": {
      "text/plain": [
       "16"
      ]
     },
     "execution_count": 20,
     "metadata": {},
     "output_type": "execute_result"
    }
   ],
   "source": [
    "del rna_obs, rna_pca, rna_x, prot_x\n",
    "gc.collect()"
   ]
  },
  {
   "cell_type": "code",
   "execution_count": 21,
   "id": "908d0dca-5733-4e89-b364-2bb28d7d2688",
   "metadata": {},
   "outputs": [
    {
     "name": "stdout",
     "output_type": "stream",
     "text": [
      "After clearing cache, memory consumption change is -264.33984375 MiB\n"
     ]
    }
   ],
   "source": [
    "print(f\"After clearing cache, memory consumption change is {(measure_memory() - mem_after)} MiB\")"
   ]
  },
  {
   "cell_type": "markdown",
   "id": "f3dc75ba-72d9-476e-be4b-cc3332476f91",
   "metadata": {},
   "source": [
    " "
   ]
  },
  {
   "cell_type": "markdown",
   "id": "6e81e64d-de3f-4e58-a8a8-d02eee6a7335",
   "metadata": {},
   "source": [
    "### External tools"
   ]
  },
  {
   "cell_type": "markdown",
   "id": "17d0b9e0-652c-4dd2-b1ae-7633fb1c5741",
   "metadata": {},
   "source": [
    "As AnnDataShadow and MuDataShadow mimic AnnData and MuData interfaces, most of the read-only functionality of [the whole ecosystem of scverse tools](https://scverse.org/packages/), including [scanpy](https://scanpy.rtfd.io/) and [muon](https://muon.scverse.org/), is supported out of the box:"
   ]
  },
  {
   "cell_type": "code",
   "execution_count": 22,
   "id": "984f7b43-2084-4a4d-b1ab-d45afb1a1700",
   "metadata": {},
   "outputs": [
    {
     "data": {
      "image/png": "[encoded data removed]",
      "text/plain": [
       "<Figure size 640x480 with 1 Axes>"
      ]
     },
     "metadata": {},
     "output_type": "display_data"
    }
   ],
   "source": [
    "sc.pl.umap(mdata[\"rna\"], color=\"celltype\")"
   ]
  },
  {
   "cell_type": "markdown",
   "id": "67cf8a21-0e33-4119-9bdb-e75bcf5c6b25",
   "metadata": {},
   "source": [
    "Notice that the colours were fetched from the respective array in `.uns`:"
   ]
  },
  {
   "cell_type": "code",
   "execution_count": 23,
   "id": "c668ce98-218c-4885-9fd1-a982a937821e",
   "metadata": {},
   "outputs": [
    {
     "data": {
      "text/plain": [
       "array(['#8000ff', '#5641fd', '#2c7ef7', '#00b5eb', '#2adddd', '#54f6cb',\n",
       "       '#80ffb4', '#abf69b', '#d4dd80', '#ffb360', '#ff7e41', '#ff4121',\n",
       "       '#ff0000'], dtype=object)"
      ]
     },
     "execution_count": 23,
     "metadata": {},
     "output_type": "execute_result"
    }
   ],
   "source": [
    "mdata['rna'].uns['celltype_colors']"
   ]
  },
  {
   "cell_type": "markdown",
   "id": "775d4d66-aa76-4e0e-aced-12107e8b16ad",
   "metadata": {},
   "source": [
    "Moreoever, they were only loaded from file when requested. We can see that an array with these value is cached now:"
   ]
  },
  {
   "cell_type": "code",
   "execution_count": 24,
   "id": "d710e6e7-a41d-4c23-80d3-6eb52444a205",
   "metadata": {},
   "outputs": [
    {
     "data": {
      "text/plain": [
       "uns:\tcelltype_colorsᐁ, hvg, leiden, leiden_colors, neighbors, pca, rank_genes_groups, umap"
      ]
     },
     "execution_count": 24,
     "metadata": {},
     "output_type": "execute_result"
    }
   ],
   "source": [
    "mdata['rna'].uns"
   ]
  },
  {
   "cell_type": "markdown",
   "id": "500ac98b-6b59-46ac-9ab1-560698b1b214",
   "metadata": {},
   "source": [
    "The same works for muon:"
   ]
  },
  {
   "cell_type": "code",
   "execution_count": 25,
   "id": "c61a9057-97ed-4db2-acbf-5c6b26bd5627",
   "metadata": {},
   "outputs": [
    {
     "data": {
      "image/png": "[encoded data removed]",
      "text/plain": [
       "<Figure size 640x480 with 1 Axes>"
      ]
     },
     "metadata": {},
     "output_type": "display_data"
    }
   ],
   "source": [
    "mdata.obs['celltype'] = mdata['rna'].obs.celltype\n",
    "mdata.uns['celltype_colors'] = mdata['rna'].uns['celltype_colors']\n",
    "\n",
    "mu.pl.mofa(mdata, color=\"celltype\")"
   ]
  },
  {
   "cell_type": "markdown",
   "id": "d38f649c-dc94-4d0c-947d-b92ebbbd2161",
   "metadata": {},
   "source": [
    " "
   ]
  },
  {
   "cell_type": "markdown",
   "id": "c47908ef-77e3-4ec3-9c44-b0f1581601ae",
   "metadata": {},
   "source": [
    "### Adding data to the in-memory object"
   ]
  },
  {
   "cell_type": "markdown",
   "id": "25398a46-869a-41da-8d11-b24408f4f0f6",
   "metadata": {},
   "source": [
    "Shadow objects also allow to have new data added to them, for instance new embeddings:\n",
    "\n",
    "> [!NOTE]\n",
    "> Data added to in-memory shadow objects can be saved on disk as demonstrated [in another tutorial](shadows-features.ipynb)."
   ]
  },
  {
   "cell_type": "code",
   "execution_count": 26,
   "id": "e4b128d2-6d41-4794-a74e-e09fc1a5ebce",
   "metadata": {},
   "outputs": [],
   "source": [
    "# For simplicity, we will copy an embedding\n",
    "mdata.obsm[\"X_mofa_copy\"] = mdata.obsm[\"X_mofa\"].copy()"
   ]
  },
  {
   "cell_type": "markdown",
   "id": "84bc7370-6f53-4cec-bb12-1f218e83851b",
   "metadata": {},
   "source": [
    "Notice a new symbol (`▲`) to signify an in-memory object:"
   ]
  },
  {
   "cell_type": "code",
   "execution_count": 27,
   "id": "2e84f3ae-bd69-4f6e-93a8-e3447a0bc999",
   "metadata": {},
   "outputs": [
    {
     "data": {
      "text/plain": [
       "MuData Shadow object with n_obs × n_vars = 3891 × 17838\n",
       "  obs:\t_index, leiden, leiden_wnn, louvain\n",
       "  var:\t_index, feature_types, gene_ids, highly_variable\n",
       "  obsm:\tX_mofaᐁ, X_mofa_umapᐁ, X_umapᐁ, X_wnn_umapᐁ, protᐁ, rnaᐁ, X_mofa_copy▲\n",
       "  varm:\tLFs, prot, rna\n",
       "  obsp:\tconnectivitiesᐁ, distancesᐁ, wnn_connectivitiesᐁ, wnn_distancesᐁ\n",
       "  uns:\tleiden, leiden_wnn_colors, louvain, neighbors, rna:celltype_colors, umap, wnn, celltype_colors▲\n",
       "  obsmap:\tprot, rna\n",
       "  varmap:\tprot, rna\n",
       "  mod:\t2 modalities\n",
       "    prot: 3891 x 32\n",
       "        X  \n",
       "        layers:\tcounts\n",
       "        obs:\t_index\n",
       "        var:\t_index, feature_types, gene_ids, highly_variable\n",
       "        obsm:\tX_pca, X_umap\n",
       "        varm:\tPCs\n",
       "        obsp:\tconnectivities, distances\n",
       "        uns:\tneighbors, pca, umap\n",
       "    rna: 3891 x 17806\n",
       "        X  \n",
       "        raw:\tX, var, varm\n",
       "        obs:\t_index, celltype, leiden, n_genes_by_counts, pct_counts_mt, total_counts, total_counts_mt\n",
       "        var:\t_index, dispersions, dispersions_norm, feature_types, gene_ids, highly_variable, mean, mean_counts, means, mt, n_cells_by_counts, pct_dropout_by_counts, std, total_counts\n",
       "        obsm:\tX_pca, X_umapᐁ\n",
       "        varm:\tPCs\n",
       "        obsp:\tconnectivities, distances\n",
       "        uns:\tcelltype_colorsᐁ, hvg, leiden, leiden_colors, neighbors, pca, rank_genes_groups, umap"
      ]
     },
     "execution_count": 27,
     "metadata": {},
     "output_type": "execute_result"
    }
   ],
   "source": [
    "mdata"
   ]
  },
  {
   "cell_type": "markdown",
   "id": "5cdd16dc-9a2b-44c3-a5d7-005cdac190cd",
   "metadata": {},
   "source": [
    "> [!NOTE] \n",
    "> Adding columns to data frames or altering objects otherwise is currently not being registered by shadow objects."
   ]
  },
  {
   "cell_type": "markdown",
   "id": "3143a80e-44a6-480d-aab3-3086cecdfd11",
   "metadata": {},
   "source": [
    " "
   ]
  },
  {
   "cell_type": "markdown",
   "id": "f91166e6-4f3b-40ae-9395-449e0de0c632",
   "metadata": {},
   "source": [
    "### Wind down"
   ]
  },
  {
   "cell_type": "code",
   "execution_count": 28,
   "id": "81ba3b67-bb8f-4731-9c86-b91fdbf8abef",
   "metadata": {},
   "outputs": [],
   "source": [
    "mdata.clear_cache()\n",
    "mdata.close()"
   ]
  },
  {
   "cell_type": "markdown",
   "id": "53604373-44ec-42f6-8235-9dd9ff0950d4",
   "metadata": {},
   "source": [
    "`mdata` cannot be used after the connection is closed:"
   ]
  },
  {
   "cell_type": "code",
   "execution_count": 29,
   "id": "a5a2dd74-13ae-4510-94fb-88d656376864",
   "metadata": {},
   "outputs": [
    {
     "name": "stdout",
     "output_type": "stream",
     "text": [
      "MuData is not available: Invalid location identifier (invalid location identifier)\n"
     ]
    }
   ],
   "source": [
    "try:\n",
    "    print(mdata)\n",
    "except ValueError as e:\n",
    "    print(\"MuData is not available:\", e)"
   ]
  },
  {
   "cell_type": "code",
   "execution_count": 30,
   "id": "465c1a71-19f9-4ae5-90fc-f642a694b030",
   "metadata": {},
   "outputs": [
    {
     "data": {
      "text/plain": [
       "9378"
      ]
     },
     "execution_count": 30,
     "metadata": {},
     "output_type": "execute_result"
    }
   ],
   "source": [
    "del mdata\n",
    "gc.collect()"
   ]
  },
  {
   "cell_type": "code",
   "execution_count": 31,
   "id": "6a2a970e-924a-4fb5-ba9e-98a7e0cc95e3",
   "metadata": {},
   "outputs": [
    {
     "name": "stdout",
     "output_type": "stream",
     "text": [
      "In the end, memory consumption is -1.2421875 MiB up\n"
     ]
    }
   ],
   "source": [
    "print(f\"In the end, memory consumption is {(measure_memory() - mem_start)} MiB up\")"
   ]
  },
  {
   "cell_type": "markdown",
   "id": "752bd981-1cbd-43ec-b707-9308afb7e55f",
   "metadata": {},
   "source": [
    " "
   ]
  }
 ],
 "metadata": {
  "kernelspec": {
   "display_name": "Python 3 (ipykernel)",
   "language": "python",
   "name": "python3"
  },
  "language_info": {
   "codemirror_mode": {
    "name": "ipython",
    "version": 3
   },
   "file_extension": ".py",
   "mimetype": "text/x-python",
   "name": "python",
   "nbconvert_exporter": "python",
   "pygments_lexer": "ipython3",
   "version": "3.10.11"
  }
 },
 "nbformat": 4,
 "nbformat_minor": 5
}
