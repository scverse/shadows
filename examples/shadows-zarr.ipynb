{
 "cells": [
  {
   "cell_type": "markdown",
   "id": "b6eae7bd-1091-480f-8c95-551eefe5c53c",
   "metadata": {
    "slideshow": {
     "slide_type": "slide"
    },
    "tags": []
   },
   "source": [
    "# Shadows for zarr"
   ]
  },
  {
   "cell_type": "code",
   "execution_count": 1,
   "id": "b17e6265-4c91-4d30-a232-20e6a627c07d",
   "metadata": {},
   "outputs": [],
   "source": [
    "%load_ext autoreload\n",
    "%autoreload 2"
   ]
  },
  {
   "cell_type": "code",
   "execution_count": 2,
   "id": "4aa723fb-6a8d-4d43-913c-a31f2316b02f",
   "metadata": {},
   "outputs": [],
   "source": [
    "import os\n",
    "os.chdir(\"../../\")"
   ]
  },
  {
   "cell_type": "code",
   "execution_count": 3,
   "id": "f1c3418a-3a90-41b0-baa6-c6ad340dc75f",
   "metadata": {},
   "outputs": [],
   "source": [
    "from pathlib import Path\n",
    "data = Path(\"data/\")"
   ]
  },
  {
   "cell_type": "markdown",
   "id": "b9e3bb66-3928-45f4-ba98-fded629de018",
   "metadata": {},
   "source": [
    " "
   ]
  },
  {
   "cell_type": "markdown",
   "id": "934b8d69-b812-422f-b718-080bb8508348",
   "metadata": {
    "slideshow": {
     "slide_type": "slide"
    },
    "tags": []
   },
   "source": [
    "## Shadows for zarr storage\n",
    "\n",
    "Beyond H5AD and H5MU files, shadow objects also work with [Zarr](https://zarr.dev/) files."
   ]
  },
  {
   "cell_type": "markdown",
   "id": "65462d07-01b0-4395-8891-eda01e472f38",
   "metadata": {},
   "source": [
    " "
   ]
  },
  {
   "cell_type": "markdown",
   "id": "4a38075c-8da2-4193-af1a-c52e18176f92",
   "metadata": {
    "slideshow": {
     "slide_type": "fragment"
    },
    "tags": []
   },
   "source": [
    "Import classes for these shadow objects:"
   ]
  },
  {
   "cell_type": "code",
   "execution_count": 4,
   "id": "079454ed-10dc-47ef-9de2-ef70f95dbed6",
   "metadata": {
    "slideshow": {
     "slide_type": "fragment"
    },
    "tags": []
   },
   "outputs": [],
   "source": [
    "from shadows import AnnDataShadow, MuDataShadow"
   ]
  },
  {
   "cell_type": "markdown",
   "id": "564f7b2b-063d-4f0e-8333-c178565ee2d2",
   "metadata": {},
   "source": [
    " "
   ]
  },
  {
   "cell_type": "markdown",
   "id": "6b819452-470f-47b7-8fa0-0c8304fd557c",
   "metadata": {
    "slideshow": {
     "slide_type": "fragment"
    },
    "tags": []
   },
   "source": [
    "Initialise a multimodal shadow object:"
   ]
  },
  {
   "cell_type": "code",
   "execution_count": 5,
   "id": "3ff358c0-2c77-460a-97a9-398f615a0e17",
   "metadata": {
    "slideshow": {
     "slide_type": "fragment"
    },
    "tags": []
   },
   "outputs": [],
   "source": [
    "file = data / \"pbmc5k_citeseq/minipbcite_prot.zarr\"\n",
    "adata = AnnDataShadow(file, format=\"zarr\")"
   ]
  },
  {
   "cell_type": "markdown",
   "id": "1747c671-ffc2-4d4d-8a04-7dc44432b2fb",
   "metadata": {},
   "source": [
    " "
   ]
  },
  {
   "cell_type": "markdown",
   "id": "b8ae6d73-9a74-48ed-9d41-7e92bfee8f71",
   "metadata": {
    "slideshow": {
     "slide_type": "slide"
    },
    "tags": []
   },
   "source": [
    "### File\n",
    "\n",
    "As with HDF5 files, file connection that the shadow is using can be accessed via the `.file` attribute:"
   ]
  },
  {
   "cell_type": "code",
   "execution_count": 7,
   "id": "33c47ede-e566-43ac-8596-470263d21b3a",
   "metadata": {},
   "outputs": [
    {
     "data": {
      "text/plain": [
       "<zarr.hierarchy.Group '/' read-only>"
      ]
     },
     "execution_count": 7,
     "metadata": {},
     "output_type": "execute_result"
    }
   ],
   "source": [
    "adata.file"
   ]
  },
  {
   "cell_type": "markdown",
   "id": "a43127df-c330-4104-bbf6-399c7392c373",
   "metadata": {},
   "source": [
    "The path to the file can then be accessed via `adata.file.store.path`:"
   ]
  },
  {
   "cell_type": "code",
   "execution_count": 8,
   "id": "2f7dec24-9cc3-4cf2-a044-a6e487c17315",
   "metadata": {},
   "outputs": [
    {
     "data": {
      "text/plain": [
       "'minipbcite_prot.zarr'"
      ]
     },
     "execution_count": 8,
     "metadata": {},
     "output_type": "execute_result"
    }
   ],
   "source": [
    "os.path.basename(adata.file.store.path)"
   ]
  },
  {
   "cell_type": "markdown",
   "id": "0574136f-7aa4-4a1e-9312-eee5fc9c6744",
   "metadata": {
    "slideshow": {
     "slide_type": "subslide"
    },
    "tags": []
   },
   "source": [
    "Zarr store will be closed upon calling the `adata.close()` method:"
   ]
  },
  {
   "cell_type": "code",
   "execution_count": 9,
   "id": "0b14eda7-0343-4f8d-82d9-ffc7257a1a11",
   "metadata": {},
   "outputs": [],
   "source": [
    "adata.close()"
   ]
  },
  {
   "cell_type": "markdown",
   "id": "a87e0e96-86c2-4623-b239-892e92b04a5a",
   "metadata": {
    "slideshow": {
     "slide_type": "fragment"
    },
    "tags": []
   },
   "source": [
    "... or until the file has to be re-opened for modification (see below)."
   ]
  },
  {
   "cell_type": "markdown",
   "id": "5a064df4-b533-4124-a85a-f7b20fcc1091",
   "metadata": {},
   "source": [
    " "
   ]
  },
  {
   "cell_type": "markdown",
   "id": "9beb85a9-e226-4b9a-949b-2351432558f7",
   "metadata": {
    "slideshow": {
     "slide_type": "slide"
    },
    "tags": []
   },
   "source": [
    "### Permissions\n",
    "\n",
    "We can open Zarr files in different modes including purely read-only (`'r'`) and read/write (`'r+'`). The mode can be provided to the constructor:"
   ]
  },
  {
   "cell_type": "code",
   "execution_count": 10,
   "id": "9f297beb-97b5-46ad-97b9-2dedc5c40b53",
   "metadata": {},
   "outputs": [
    {
     "data": {
      "text/plain": [
       "True"
      ]
     },
     "execution_count": 10,
     "metadata": {},
     "output_type": "execute_result"
    }
   ],
   "source": [
    "adata = AnnDataShadow(file, format=\"zarr\", mode=\"r\")\n",
    "adata.file.read_only"
   ]
  },
  {
   "cell_type": "markdown",
   "id": "fc9da2a5-402f-4fe8-83a2-0a5f06a84d7c",
   "metadata": {},
   "source": [
    "Let's add some data to the in-memory shadow object:"
   ]
  },
  {
   "cell_type": "code",
   "execution_count": 11,
   "id": "21f291bd-7c5d-4ef3-a034-c0030dabdb60",
   "metadata": {
    "slideshow": {
     "slide_type": "fragment"
    },
    "tags": []
   },
   "outputs": [],
   "source": [
    "adata.obsm[\"X_pca_copy\"] = adata.obsm[\"X_pca\"].copy()"
   ]
  },
  {
   "cell_type": "markdown",
   "id": "b03108f5-0e8a-4646-af12-ef5fc934885b",
   "metadata": {
    "slideshow": {
     "slide_type": "subslide"
    },
    "tags": []
   },
   "source": [
    "We can also conveniently close and reopen the connection for a given in-memory shadow object:"
   ]
  },
  {
   "cell_type": "code",
   "execution_count": 12,
   "id": "e8ddb228-74b4-4f8e-8cdc-c84479f38d2d",
   "metadata": {},
   "outputs": [
    {
     "data": {
      "text/plain": [
       "False"
      ]
     },
     "execution_count": 12,
     "metadata": {},
     "output_type": "execute_result"
    }
   ],
   "source": [
    "adata.reopen(mode=\"r+\")\n",
    "adata.file.read_only"
   ]
  },
  {
   "cell_type": "markdown",
   "id": "48157734-adc0-4e7d-8157-64e1201b6fba",
   "metadata": {},
   "source": [
    "This way all the newly added elements are still available in memory:"
   ]
  },
  {
   "cell_type": "code",
   "execution_count": 13,
   "id": "043428b5-dc58-4d0c-b653-e1d8451b39f9",
   "metadata": {},
   "outputs": [
    {
     "data": {
      "text/plain": [
       "obsm:\tX_pcaᐁ, X_umap, X_pca_copy▲"
      ]
     },
     "execution_count": 13,
     "metadata": {},
     "output_type": "execute_result"
    }
   ],
   "source": [
    "adata.obsm"
   ]
  },
  {
   "cell_type": "code",
   "execution_count": 14,
   "id": "50aba055-06e2-490d-a1a6-3307ef7ac6d0",
   "metadata": {
    "slideshow": {
     "slide_type": "fragment"
    },
    "tags": []
   },
   "outputs": [],
   "source": [
    "# Clean up\n",
    "adata.close()\n",
    "del adata"
   ]
  },
  {
   "cell_type": "markdown",
   "id": "991ccc6a-f182-4689-802d-a9ae70a490e4",
   "metadata": {},
   "source": [
    " "
   ]
  },
  {
   "cell_type": "markdown",
   "id": "2dbc52ad-6010-416f-810b-c60e5546ba7b",
   "metadata": {
    "slideshow": {
     "slide_type": "slide"
    },
    "tags": []
   },
   "source": [
    "### Individual modality access\n",
    "\n",
    "Individual modalities stored in the .h5mu files can be accessed as part of the `MuDataShadow` object:"
   ]
  },
  {
   "cell_type": "code",
   "execution_count": 15,
   "id": "d5ea1511-6f1b-4c51-9ec7-14365dc8d391",
   "metadata": {
    "slideshow": {
     "slide_type": "fragment"
    },
    "tags": []
   },
   "outputs": [
    {
     "data": {
      "text/plain": [
       "AnnData Shadow object with n_obs × n_vars = 411 × 29\n",
       "  X  \n",
       "  layers:\tcounts\n",
       "  obs:\t_index\n",
       "  var:\t_index, feature_types, gene_ids, highly_variable\n",
       "  obsm:\tX_pca, X_umap\n",
       "  varm:\tPCs\n",
       "  obsp:\tconnectivities, distances\n",
       "  uns:\tneighbors, pca, umap"
      ]
     },
     "execution_count": 15,
     "metadata": {},
     "output_type": "execute_result"
    }
   ],
   "source": [
    "adata = AnnDataShadow(file, format=\"zarr\")\n",
    "adata"
   ]
  },
  {
   "cell_type": "code",
   "execution_count": 16,
   "id": "946d03a9-d0d1-4ebc-ae29-92d795f08073",
   "metadata": {
    "slideshow": {
     "slide_type": "fragment"
    },
    "tags": []
   },
   "outputs": [],
   "source": [
    "# Clean up\n",
    "adata.close()\n",
    "del adata"
   ]
  },
  {
   "cell_type": "markdown",
   "id": "14b8ad11-adad-4ea8-9146-3dd7cd9bd415",
   "metadata": {},
   "source": [
    " "
   ]
  },
  {
   "cell_type": "markdown",
   "id": "d3ae2a84-34fc-48b9-926e-a5d5f57e4e73",
   "metadata": {
    "slideshow": {
     "slide_type": "slide"
    },
    "tags": []
   },
   "source": [
    "### Class identity\n",
    "\n",
    "Many tools in the ecosystem including scanpy frequently check if the input object is an AnnData. For instance, [in `sc.pp.highly_variable_genes`](https://github.com/scverse/scanpy/blob/master/scanpy/preprocessing/_highly_variable_genes.py) it reads:\n",
    "\n",
    "```py\n",
    "if not isinstance(adata, AnnData):\n",
    "    raise ValueError(\n",
    "        '`pp.highly_variable_genes` expects an `AnnData` argument, '\n",
    "        'pass `inplace=False` if you want to return a `pd.DataFrame`.'\n",
    "    )\n",
    "```\n",
    "\n",
    "In order for shadow objects to be accepted by such functions, they mock their class identity:"
   ]
  },
  {
   "cell_type": "code",
   "execution_count": 17,
   "id": "f10b98ff-920f-4d46-924f-1cf3074236db",
   "metadata": {
    "slideshow": {
     "slide_type": "subslide"
    },
    "tags": []
   },
   "outputs": [],
   "source": [
    "adata = AnnDataShadow(file, format=\"zarr\")\n",
    "\n",
    "from anndata import AnnData\n",
    "assert isinstance(adata, AnnData), \"adata is not a valid AnnData object\""
   ]
  },
  {
   "cell_type": "markdown",
   "id": "f8e2d4a9-eba2-45c0-88f6-35f69e7d0249",
   "metadata": {
    "slideshow": {
     "slide_type": "subslide"
    },
    "tags": []
   },
   "source": [
    "Checking for shadow identity still works:"
   ]
  },
  {
   "cell_type": "code",
   "execution_count": 18,
   "id": "efadd4ba-219c-4c84-a1eb-36baf135c82d",
   "metadata": {},
   "outputs": [
    {
     "data": {
      "text/plain": [
       "True"
      ]
     },
     "execution_count": 18,
     "metadata": {},
     "output_type": "execute_result"
    }
   ],
   "source": [
    "isinstance(adata, AnnDataShadow)"
   ]
  },
  {
   "cell_type": "code",
   "execution_count": 19,
   "id": "a32515de-7866-4229-a639-0818a0dbea3b",
   "metadata": {
    "slideshow": {
     "slide_type": "fragment"
    },
    "tags": []
   },
   "outputs": [],
   "source": [
    "adata.close()"
   ]
  },
  {
   "cell_type": "markdown",
   "id": "8d4e683f-0a0b-426c-8cf7-5f5529a844d2",
   "metadata": {},
   "source": [
    " "
   ]
  },
  {
   "cell_type": "markdown",
   "id": "c29f18b0-717b-4821-b0f8-e81ca94426de",
   "metadata": {},
   "source": [
    "### Backends\n",
    "\n",
    "AnnData/MuData are based on a NumPy/Pandas stack. This is the default for the shadow objects in order to provide compatibility with AnnData/MuData objects.\n",
    "\n",
    "However the nature of shadow files also simplifies loading individual matrices or tables with alternative backends, e.g. [JAX](https://jax.readthedocs.io/en/latest/_autosummary/jax.numpy.array.html#jax.numpy.array) (`Array`), [PyTorch](https://pytorch.org/docs/stable/tensors.html) (`Tensor`) or [polars](https://pola-rs.github.io/polars/py-polars/html/reference/dataframe/index.html) (`DataFrame`)."
   ]
  },
  {
   "cell_type": "code",
   "execution_count": 20,
   "id": "734d4e9e-3936-4911-96fe-1bed3de167eb",
   "metadata": {},
   "outputs": [],
   "source": [
    "adata = AnnDataShadow(file, format=\"zarr\", array_backend=\"jax\", table_backend=\"polars\")"
   ]
  },
  {
   "cell_type": "code",
   "execution_count": 21,
   "id": "3d909ef6-92b7-40f4-b50e-641993469791",
   "metadata": {},
   "outputs": [
    {
     "name": "stdout",
     "output_type": "stream",
     "text": [
      "<class 'polars.internals.dataframe.frame.DataFrame'>\n"
     ]
    },
    {
     "data": {
      "text/html": [
       "<div>\n",
       "<style scoped>\n",
       "    .dataframe tbody tr th:only-of-type {\n",
       "        vertical-align: middle;\n",
       "    }\n",
       "\n",
       "    .dataframe tbody tr th {\n",
       "        vertical-align: top;\n",
       "    }\n",
       "\n",
       "    .dataframe thead th {\n",
       "        text-align: right;\n",
       "    }\n",
       "\n",
       "    .dataframe td {\n",
       "        white-space: pre;\n",
       "    }\n",
       "\n",
       "    .dataframe td {\n",
       "        padding-top: 0;\n",
       "    }\n",
       "\n",
       "    .dataframe td {\n",
       "        padding-bottom: 0;\n",
       "    }\n",
       "\n",
       "    .dataframe td {\n",
       "        line-height: 95%;\n",
       "    }\n",
       "</style>\n",
       "<table border=\"1\" class=\"dataframe\">\n",
       "<small>shape: (5, 1)</small>\n",
       "<thead>\n",
       "<tr>\n",
       "<th>\n",
       "_index\n",
       "</th>\n",
       "</tr>\n",
       "<tr>\n",
       "<td>\n",
       "object\n",
       "</td>\n",
       "</tr>\n",
       "</thead>\n",
       "<tbody>\n",
       "<tr>\n",
       "<td>\n",
       "CAGCCAGGTCTCGACG-1\n",
       "</td>\n",
       "</tr>\n",
       "<tr>\n",
       "<td>\n",
       "TTCTTCCTCTCGGTAA-1\n",
       "</td>\n",
       "</tr>\n",
       "<tr>\n",
       "<td>\n",
       "CGGGTCAAGAGAGGTA-1\n",
       "</td>\n",
       "</tr>\n",
       "<tr>\n",
       "<td>\n",
       "TACCCGTCATAATCCG-1\n",
       "</td>\n",
       "</tr>\n",
       "<tr>\n",
       "<td>\n",
       "TGGGTTAGTGAATTAG-1\n",
       "</td>\n",
       "</tr>\n",
       "</tbody>\n",
       "</table>\n",
       "</div>"
      ],
      "text/plain": [
       "shape: (5, 1)\n",
       "┌────────────────────┐\n",
       "│ _index             │\n",
       "│ ---                │\n",
       "│ object             │\n",
       "╞════════════════════╡\n",
       "│ CAGCCAGGTCTCGACG-1 │\n",
       "│ TTCTTCCTCTCGGTAA-1 │\n",
       "│ CGGGTCAAGAGAGGTA-1 │\n",
       "│ TACCCGTCATAATCCG-1 │\n",
       "│ TGGGTTAGTGAATTAG-1 │\n",
       "└────────────────────┘"
      ]
     },
     "execution_count": 21,
     "metadata": {},
     "output_type": "execute_result"
    }
   ],
   "source": [
    "obs = adata.obs\n",
    "print(type(obs))\n",
    "obs.head()"
   ]
  },
  {
   "cell_type": "code",
   "execution_count": 22,
   "id": "32286100-13e4-49af-8194-f53693c9b7f0",
   "metadata": {},
   "outputs": [
    {
     "name": "stdout",
     "output_type": "stream",
     "text": [
      "<class 'jaxlib.xla_extension.ArrayImpl'>\n"
     ]
    },
    {
     "data": {
      "text/plain": [
       "Array([[ 17.051027  ,   1.2865539 ,  -1.2715828 , ...,  -0.05060111,\n",
       "         -1.8431426 ,  -1.0410113 ],\n",
       "       [ 15.563506  ,  -2.1941857 ,  -1.351732  , ...,  -1.0639406 ,\n",
       "         -0.1610156 ,   2.1454387 ],\n",
       "       [ 20.369316  ,  -8.03503   ,   0.3842825 , ...,   0.52950376,\n",
       "         -0.38589898,  -0.7488529 ],\n",
       "       ...,\n",
       "       [-11.894565  ,   9.380491  ,  -0.87732434, ...,  -0.40848297,\n",
       "          0.4135897 ,  -0.710097  ],\n",
       "       [-13.12094   ,   9.734974  ,  -3.345742  , ...,   1.049644  ,\n",
       "          0.28707528,  -1.8128693 ],\n",
       "       [-12.875325  ,  11.512296  ,  -4.9828258 , ...,  -0.82176274,\n",
       "         -2.06324   ,  -0.14073044]], dtype=float32)"
      ]
     },
     "execution_count": 22,
     "metadata": {},
     "output_type": "execute_result"
    }
   ],
   "source": [
    "rna_pca = adata.obsm[\"X_pca\"]\n",
    "print(type(rna_pca))\n",
    "rna_pca"
   ]
  },
  {
   "cell_type": "markdown",
   "id": "6cdad910-a34c-49d2-bc03-87bfde9417c9",
   "metadata": {},
   "source": [
    "When alternative backends are being used, not all of the AnnData/MuData features can be supported, and many external tools might not work as expected as they anticipate NumPy/Pandas objects instead."
   ]
  },
  {
   "cell_type": "code",
   "execution_count": 23,
   "id": "b06a9071-0443-41e6-ac81-e3f0ce2653e9",
   "metadata": {},
   "outputs": [],
   "source": [
    "# Clean up\n",
    "adata.clear_cache()\n",
    "adata.close()\n",
    "del adata, rna_pca, obs"
   ]
  },
  {
   "cell_type": "markdown",
   "id": "6c474c9e-dfea-406c-ace6-461e8d5438a4",
   "metadata": {},
   "source": [
    " "
   ]
  },
  {
   "cell_type": "markdown",
   "id": "16f9b372-a089-4aed-b91e-b368a2ddc13e",
   "metadata": {
    "slideshow": {
     "slide_type": "slide"
    },
    "tags": []
   },
   "source": [
    "### Partial writing\n",
    "\n",
    "> [!NOTE]\n",
    "> This feature is experimental.\n",
    "\n",
    "While the main use of the shadows is to provide a low-memory read-only solution to scverse datasets, ability to add new embeddings or other items to the file can greatly extend its usage patterns."
   ]
  },
  {
   "cell_type": "code",
   "execution_count": 24,
   "id": "02245bc0-cc92-4fe7-b665-a4e2f424b353",
   "metadata": {
    "slideshow": {
     "slide_type": "fragment"
    },
    "tags": []
   },
   "outputs": [],
   "source": [
    "adata = AnnDataShadow(file, format=\"zarr\")"
   ]
  },
  {
   "cell_type": "markdown",
   "id": "c7324f1c-c4a4-4561-9680-0ac5caacc79f",
   "metadata": {},
   "source": [
    "Add a new embedding to the in-memory object:"
   ]
  },
  {
   "cell_type": "code",
   "execution_count": 25,
   "id": "eb6f076f-0b26-428b-a824-a82b3d648c00",
   "metadata": {
    "slideshow": {
     "slide_type": "fragment"
    },
    "tags": []
   },
   "outputs": [
    {
     "data": {
      "text/plain": [
       "obsm:\tX_pcaᐁ, X_umap, X_pca_copy▲"
      ]
     },
     "execution_count": 25,
     "metadata": {},
     "output_type": "execute_result"
    }
   ],
   "source": [
    "adata.obsm[\"X_pca_copy\"] = adata.obsm[\"X_pca\"].copy()\n",
    "adata.obsm"
   ]
  },
  {
   "cell_type": "markdown",
   "id": "0a7a6374-cb13-4f3a-8f5b-e0c4b4f89363",
   "metadata": {
    "slideshow": {
     "slide_type": "subslide"
    },
    "tags": []
   },
   "source": [
    "For this, a family of methods is useful, including `.reopen()` and `.write()`. The `.write()` method will only work if the connection is not read-only, e.g. `'r+'`, however it is possible to reopen the file in another mode.\n",
    "\n",
    "Internally, `.write()` pushes (`._push_changes()`) the in-memory changes (marked with ▲ in the object representation above) to the file and provides meaningful error messages when the file is not open for writing.\n",
    "\n",
    "This separation of concern makes it transparent when the data is modified, and this workflow can be recommended when barely any data are added to the file. As the methods return the shadow itself, it is possible to chain them:"
   ]
  },
  {
   "cell_type": "code",
   "execution_count": 26,
   "id": "bcfa2982-4bf6-42eb-a604-d17d6496598b",
   "metadata": {
    "slideshow": {
     "slide_type": "fragment"
    },
    "tags": []
   },
   "outputs": [
    {
     "data": {
      "text/plain": [
       "obsm:\tX_pcaᐁ, X_pca_copy, X_umap"
      ]
     },
     "execution_count": 26,
     "metadata": {},
     "output_type": "execute_result"
    }
   ],
   "source": [
    "adata.reopen(mode='r+').write(clear_cache=True).reopen(mode='r');  # clear pushed elements from cache\n",
    "adata.obsm"
   ]
  },
  {
   "cell_type": "code",
   "execution_count": 27,
   "id": "1b794d6e-3cf2-4451-9a96-972aec79fc82",
   "metadata": {},
   "outputs": [],
   "source": [
    "adata.clear_cache()"
   ]
  },
  {
   "cell_type": "markdown",
   "id": "af3d311e-0199-4dcf-b5a5-15b8e446fd08",
   "metadata": {},
   "source": [
    " "
   ]
  },
  {
   "cell_type": "markdown",
   "id": "1b128596-dbb5-4469-a346-bd14cda79eb3",
   "metadata": {},
   "source": [
    "Default mode is read-only, and it protects the files from being modified while also allowing for multiple connections to the file:"
   ]
  },
  {
   "cell_type": "code",
   "execution_count": 28,
   "id": "8e817c96-ae69-49d7-a574-58481170f011",
   "metadata": {},
   "outputs": [
    {
     "name": "stdout",
     "output_type": "stream",
     "text": [
      "Not available for .write(): File is open in read-only mode. Changes can't be pushed. Reopen it with .reopen('r+') to enable writing.\n"
     ]
    }
   ],
   "source": [
    "try:\n",
    "    adata.write()\n",
    "except OSError as e:\n",
    "    print(\"Not available for .write():\", e)"
   ]
  },
  {
   "cell_type": "markdown",
   "id": "2e68cef8-871f-49be-8829-f59ff9d93f99",
   "metadata": {},
   "source": [
    " "
   ]
  },
  {
   "cell_type": "markdown",
   "id": "8b5c17b8-98d1-42b6-a008-b3c3b6fbfb79",
   "metadata": {},
   "source": [
    "> [!NOTE]\n",
    "> Partial writing is currently intended to add new elements to the dataset on di  not allow to delete or modify existing elements"
   ]
  },
  {
   "cell_type": "markdown",
   "id": "e841d95f-3f46-4902-b18f-eb4c7080e58d",
   "metadata": {},
   "source": [
    " "
   ]
  },
  {
   "cell_type": "markdown",
   "id": "e0c11265-8429-4a34-a552-759b1f07a0bc",
   "metadata": {
    "tags": []
   },
   "source": [
    "### Views\n",
    "\n",
    "Views for shadow objects are conceptually similar to [views in AnnData/MuData](https://anndata.readthedocs.io/en/latest/generated/anndata.AnnData.is_view.html): they provide a view into an existing object without creating its copy.\n",
    "\n",
    "As shadow objects inherently operate on the file they are connected to, their views behave slightly differently. Creating a view creates a new connection to the file and returns a new shadow object, which is aware of the part of the data (e.g. which cells) it is supposed to provide a view for."
   ]
  },
  {
   "cell_type": "code",
   "execution_count": 29,
   "id": "c3ea6e33-128a-48fd-a421-0c9f5801e47d",
   "metadata": {},
   "outputs": [
    {
     "data": {
      "text/plain": [
       "View of AnnData Shadow object with n_obs × n_vars = 100 × 29 (original 411 × 29)\n",
       "  X  \n",
       "  layers:\tcounts\n",
       "  obs:\t_index\n",
       "  var:\t_index, feature_types, gene_ids, highly_variable\n",
       "  obsm:\tX_pca, X_pca_copy, X_umap\n",
       "  varm:\tPCs\n",
       "  obsp:\tconnectivities, distances\n",
       "  uns:\tneighbors, pca, umap"
      ]
     },
     "execution_count": 29,
     "metadata": {},
     "output_type": "execute_result"
    }
   ],
   "source": [
    "head = 100\n",
    "head_view = adata[0:head]\n",
    "head_view"
   ]
  },
  {
   "cell_type": "markdown",
   "id": "2f115798-96d2-4660-889d-b3e9a2d154c3",
   "metadata": {},
   "source": [
    "Individual modalities of a MuData Shadow View are sliced accordingly:"
   ]
  },
  {
   "cell_type": "code",
   "execution_count": 30,
   "id": "13f4b379-e26d-4677-9de3-42b3754af15d",
   "metadata": {},
   "outputs": [
    {
     "data": {
      "text/plain": [
       "(100, 31)"
      ]
     },
     "execution_count": 30,
     "metadata": {},
     "output_type": "execute_result"
    }
   ],
   "source": [
    "head_view.obsm[\"X_pca\"].shape"
   ]
  },
  {
   "cell_type": "code",
   "execution_count": 31,
   "id": "585fcbc6-9d5f-406f-99e1-6b91117e2bac",
   "metadata": {},
   "outputs": [
    {
     "data": {
      "text/plain": [
       "obsm:\tX_pcaᐁ, X_pca_copy, X_umap"
      ]
     },
     "execution_count": 31,
     "metadata": {},
     "output_type": "execute_result"
    }
   ],
   "source": [
    "head_view.obsm"
   ]
  },
  {
   "cell_type": "code",
   "execution_count": 32,
   "id": "bfa15c8a-f4a8-4907-939f-5cb80ef50abc",
   "metadata": {},
   "outputs": [
    {
     "data": {
      "text/plain": [
       "View of AnnData Shadow object with n_obs × n_vars = 2 × 3 (original 411 × 29)\n",
       "  X  \n",
       "  layers:\tcounts\n",
       "  obs:\t_index\n",
       "  var:\t_index, feature_types, gene_ids, highly_variable\n",
       "  obsm:\tX_pca, X_pca_copy, X_umap\n",
       "  varm:\tPCs\n",
       "  obsp:\tconnectivities, distances\n",
       "  uns:\tneighbors, pca, umap"
      ]
     },
     "execution_count": 32,
     "metadata": {},
     "output_type": "execute_result"
    }
   ],
   "source": [
    "nested_view = head_view[:2,-3:]\n",
    "nested_view"
   ]
  },
  {
   "cell_type": "markdown",
   "id": "6e3ce502-40e6-4b40-b78e-cf86e527bf18",
   "metadata": {},
   "source": [
    "Getting attributes from views is no different than for shadow objects:"
   ]
  },
  {
   "cell_type": "code",
   "execution_count": 33,
   "id": "216d5cd3-5457-4145-952b-61bed2be9f7d",
   "metadata": {},
   "outputs": [
    {
     "data": {
      "text/html": [
       "<div>\n",
       "<style scoped>\n",
       "    .dataframe tbody tr th:only-of-type {\n",
       "        vertical-align: middle;\n",
       "    }\n",
       "\n",
       "    .dataframe tbody tr th {\n",
       "        vertical-align: top;\n",
       "    }\n",
       "\n",
       "    .dataframe thead th {\n",
       "        text-align: right;\n",
       "    }\n",
       "</style>\n",
       "<table border=\"1\" class=\"dataframe\">\n",
       "  <thead>\n",
       "    <tr style=\"text-align: right;\">\n",
       "      <th></th>\n",
       "    </tr>\n",
       "  </thead>\n",
       "  <tbody>\n",
       "    <tr>\n",
       "      <th>CAGCCAGGTCTCGACG-1</th>\n",
       "    </tr>\n",
       "    <tr>\n",
       "      <th>TTCTTCCTCTCGGTAA-1</th>\n",
       "    </tr>\n",
       "  </tbody>\n",
       "</table>\n",
       "</div>"
      ],
      "text/plain": [
       "Empty DataFrame\n",
       "Columns: []\n",
       "Index: [CAGCCAGGTCTCGACG-1, TTCTTCCTCTCGGTAA-1]"
      ]
     },
     "execution_count": 33,
     "metadata": {},
     "output_type": "execute_result"
    }
   ],
   "source": [
    "nested_view.obs"
   ]
  },
  {
   "cell_type": "markdown",
   "id": "9dbacf34-247e-4ac9-995b-f39656491973",
   "metadata": {},
   "source": [
    "... as they are shadow objects themselves:"
   ]
  },
  {
   "cell_type": "code",
   "execution_count": 34,
   "id": "c0921236-cc65-43fc-a9a1-557d4ab0a1c6",
   "metadata": {},
   "outputs": [
    {
     "data": {
      "text/plain": [
       "shadows.anndatashadow.AnnDataShadow"
      ]
     },
     "execution_count": 34,
     "metadata": {},
     "output_type": "execute_result"
    }
   ],
   "source": [
    "type(nested_view)"
   ]
  },
  {
   "cell_type": "code",
   "execution_count": 35,
   "id": "e70179b3-da72-4155-bbf9-b6f9d1fa8d47",
   "metadata": {},
   "outputs": [],
   "source": [
    "# Clean up\n",
    "nested_view.close()\n",
    "del nested_view\n",
    "\n",
    "head_view.close()\n",
    "del head_view"
   ]
  },
  {
   "cell_type": "markdown",
   "id": "ed55ed1b-1d8e-4250-9352-75f59cd5551a",
   "metadata": {},
   "source": [
    " "
   ]
  },
  {
   "cell_type": "markdown",
   "id": "ab4a745e-df8c-46f5-9c3d-d2d3678fff5f",
   "metadata": {
    "slideshow": {
     "slide_type": "slide"
    },
    "tags": []
   },
   "source": [
    "### Per-feature access to datasets on disk\n",
    "\n",
    "This is currently not possible as caching works at the level of individual HDF5 datasets.\n",
    "\n",
    "Views may read only the necessary parts of the arrays to memory however this behaviour is currently not universal.\n",
    "\n",
    "E.g.:"
   ]
  },
  {
   "cell_type": "code",
   "execution_count": 36,
   "id": "ff5c4052-0929-43c3-947f-6de72b78d69e",
   "metadata": {},
   "outputs": [
    {
     "data": {
      "text/plain": [
       "(10, 29)"
      ]
     },
     "execution_count": 36,
     "metadata": {},
     "output_type": "execute_result"
    }
   ],
   "source": [
    "adata_subset = adata[:10,:100]\n",
    "adata_subset.X.shape"
   ]
  },
  {
   "cell_type": "code",
   "execution_count": 37,
   "id": "e410e6e1-34c8-48f5-88b5-a45a0545e342",
   "metadata": {},
   "outputs": [
    {
     "data": {
      "text/plain": [
       "View of AnnData Shadow object with n_obs × n_vars = 10 × 29 (original 411 × 29)\n",
       "  X ᐁ \n",
       "  layers:\tcounts\n",
       "  obs:\t_index\n",
       "  var:\t_index, feature_types, gene_ids, highly_variable\n",
       "  obsm:\tX_pca, X_pca_copy, X_umap\n",
       "  varm:\tPCs\n",
       "  obsp:\tconnectivities, distances\n",
       "  uns:\tneighbors, pca, umap"
      ]
     },
     "execution_count": 37,
     "metadata": {},
     "output_type": "execute_result"
    }
   ],
   "source": [
    "adata_subset"
   ]
  },
  {
   "cell_type": "code",
   "execution_count": 38,
   "id": "bf2a317a-ca82-4a73-b0ef-07d0cfac2128",
   "metadata": {},
   "outputs": [],
   "source": [
    "# Clean up\n",
    "adata.close()\n",
    "adata_subset.close()\n",
    "del adata, adata_subset"
   ]
  },
  {
   "cell_type": "markdown",
   "id": "bb50af6a-4ee2-4a8f-b022-9b0daa63e81e",
   "metadata": {},
   "source": [
    " "
   ]
  },
  {
   "cell_type": "markdown",
   "id": "fec4c262-5bbf-4393-b082-f208f7997a7a",
   "metadata": {
    "slideshow": {
     "slide_type": "slide"
    },
    "tags": []
   },
   "source": [
    "---\n",
    "\n",
    "In order to return the data to its original state, let's manually remove the items we wrote to the file:"
   ]
  },
  {
   "cell_type": "code",
   "execution_count": 39,
   "id": "46550ff4-39e1-40e6-80d0-4fd45d99af84",
   "metadata": {
    "slideshow": {
     "slide_type": "fragment"
    },
    "tags": []
   },
   "outputs": [],
   "source": [
    "import zarr\n",
    "\n",
    "f = zarr.open(file, \"a\")\n",
    "#                    ^\n",
    "#        ____________|\n",
    "# if this works,     \n",
    "# no dangling read-only connections!\n",
    "# \n",
    "\n",
    "del f[\"obsm/X_pca_copy\"]\n",
    "f.store.close()"
   ]
  },
  {
   "cell_type": "markdown",
   "id": "6bc6a57c-39d0-45ad-be01-8cadde33da83",
   "metadata": {},
   "source": [
    " "
   ]
  },
  {
   "cell_type": "markdown",
   "id": "752bd981-1cbd-43ec-b707-9308afb7e55f",
   "metadata": {},
   "source": [
    " "
   ]
  }
 ],
 "metadata": {
  "kernelspec": {
   "display_name": "Python 3 (ipykernel)",
   "language": "python",
   "name": "python3"
  },
  "language_info": {
   "codemirror_mode": {
    "name": "ipython",
    "version": 3
   },
   "file_extension": ".py",
   "mimetype": "text/x-python",
   "name": "python",
   "nbconvert_exporter": "python",
   "pygments_lexer": "ipython3",
   "version": "3.10.11"
  }
 },
 "nbformat": 4,
 "nbformat_minor": 5
}
